{
 "cells": [
  {
   "cell_type": "markdown",
   "id": "30d1a00b-20eb-4fa9-85c6-10d2b535dba0",
   "metadata": {},
   "source": [
    "# DataScience Tools and Ecosystems"
   ]
  },
  {
   "cell_type": "markdown",
   "id": "4d901fbb-828d-4d67-b9dc-c22fa019657c",
   "metadata": {},
   "source": [
    "In this notebook, Data Science Tools and Ecosystem are summarized."
   ]
  },
  {
   "cell_type": "markdown",
   "id": "f53876de-3790-498b-9bff-5af3e95c10ad",
   "metadata": {
    "tags": []
   },
   "source": [
    "some of the popular languages that Data Scientist use are:\n",
    "\n",
    "    1. Python\n",
    "    2. Java\n",
    "    3.C plus plus\n",
    "    "
   ]
  },
  {
   "cell_type": "markdown",
   "id": "354148a8-6f85-4232-8dc9-d265965d9b88",
   "metadata": {
    "tags": []
   },
   "source": [
    "Some of the commonly used libraries used by Data Scientists include:\n",
    "    \n",
    "    1. Numpy \n",
    "    2. Tensorflow \n",
    "    3. Scipy"
   ]
  },
  {
   "cell_type": "markdown",
   "id": "dcfb97cc-e5ad-4585-acba-8bd8e95aeb72",
   "metadata": {
    "tags": []
   },
   "source": [
    "### Below are a few examples of evaluating arithmetic expressions in Python using Jupyter Notebooks\n",
    "\n",
    "| Data Science Tools |\n",
    "|---------------------|\n",
    "| Jupyter Notebooks   |\n",
    "| Pandas              |\n",
    "| NumPy               |\n",
    "| Matplotlib          |\n"
   ]
  },
  {
   "cell_type": "markdown",
   "id": "b9641520-54fc-4133-ab73-3729980c260f",
   "metadata": {
    "tags": []
   },
   "source": [
    "### Below are a few examples of evaluating arithmetic expressions in Python"
   ]
  },
  {
   "cell_type": "code",
   "execution_count": 6,
   "id": "1b1f633d-a772-4f76-adc7-0789f641cd11",
   "metadata": {
    "tags": []
   },
   "outputs": [],
   "source": [
    "#This a simple arithmetic expression to mutiply then add integers"
   ]
  },
  {
   "cell_type": "code",
   "execution_count": 5,
   "id": "fe48f8f8-291b-4244-9b8f-7e64fa030ce5",
   "metadata": {
    "tags": []
   },
   "outputs": [
    {
     "data": {
      "text/plain": [
       "17"
      ]
     },
     "execution_count": 5,
     "metadata": {},
     "output_type": "execute_result"
    }
   ],
   "source": [
    "(3*4)+5"
   ]
  },
  {
   "cell_type": "code",
   "execution_count": 8,
   "id": "9e5f6d28-5b46-40f5-b1e8-3d6e73b855f0",
   "metadata": {
    "tags": []
   },
   "outputs": [],
   "source": [
    "#This will convert 200 minutes to hours by diving by 60"
   ]
  },
  {
   "cell_type": "code",
   "execution_count": 9,
   "id": "1a3c47ec-42df-4725-8e92-354778523d3c",
   "metadata": {
    "tags": []
   },
   "outputs": [
    {
     "data": {
      "text/plain": [
       "3.3333333333333335"
      ]
     },
     "execution_count": 9,
     "metadata": {},
     "output_type": "execute_result"
    }
   ],
   "source": [
    "200/60"
   ]
  },
  {
   "cell_type": "markdown",
   "id": "9132ea47-983f-4b41-acc3-e3625c457cf5",
   "metadata": {},
   "source": [
    "__Objectives__\n",
    "\n",
    "* list known Data science languages \n",
    "* list known Data science tools \n",
    "* how to do Comments \n",
    "* how to write headings in Jupyter Notebooks "
   ]
  },
  {
   "cell_type": "markdown",
   "id": "dd50ff7e-9646-48e0-aefc-0801e9f6f2bc",
   "metadata": {},
   "source": [
    "## Author\n",
    "Fernando Jose Kee Ham Matute"
   ]
  },
  {
   "cell_type": "code",
   "execution_count": null,
   "id": "ff7482d9-8de2-4f83-93bb-9d0a1de41d7e",
   "metadata": {},
   "outputs": [],
   "source": []
  }
 ],
 "metadata": {
  "kernelspec": {
   "display_name": "Python",
   "language": "python",
   "name": "conda-env-python-py"
  },
  "language_info": {
   "codemirror_mode": {
    "name": "ipython",
    "version": 3
   },
   "file_extension": ".py",
   "mimetype": "text/x-python",
   "name": "python",
   "nbconvert_exporter": "python",
   "pygments_lexer": "ipython3",
   "version": "3.7.12"
  }
 },
 "nbformat": 4,
 "nbformat_minor": 5
}
